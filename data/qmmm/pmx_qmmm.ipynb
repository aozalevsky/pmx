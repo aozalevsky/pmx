{
 "cells": [
  {
   "cell_type": "markdown",
   "metadata": {},
   "source": [
    "# Download code and install module\n",
    "\n",
    "`\n",
    "git clone git@github.com:aozalevsky/pmx.git pmx_qmmm\n",
    "cd pmx_qmmm\n",
    "git checkout qmmm\n",
    "`\n",
    "\n",
    "Then install in normal mode\n",
    "\n",
    "`python setup.py install`"
   ]
  },
  {
   "cell_type": "code",
   "execution_count": null,
   "metadata": {},
   "outputs": [],
   "source": [
    "# Init QM system for QMMM computations\n",
    "\n",
    "base = '/some/path/to/temp/dir/'\n",
    "\n",
    "qm = pmx.QMsystem()\n",
    "\n",
    "# Init input files\n",
    "# Example files can be found in the pmx_qmmm/data/qmmm dir\n",
    "qm.itop = pmx.Topology(base + \"topol.top\")\n",
    "qm.igro = pmx.Model(base + \"emqm_si_pr.gro\")\n",
    "qm.indx = pmx.IndexFile() \n",
    "\n",
    "# Init output files\n",
    "qm.otopfn = base + 'topol_qm.top'\n",
    "qm.ogrofn = base + 'emqm.gro'\n",
    "qm.ondxfn = base + 'qms.ndx'"
   ]
  },
  {
   "cell_type": "code",
   "execution_count": null,
   "metadata": {},
   "outputs": [],
   "source": [
    "# Initial setting of QM system\n",
    "\n",
    "asel = pmx.Atomselection()\n",
    "\n",
    "# select_within(<AROUND_WHAT_ATOMS>, <FROM_WHICH_ATOMS>, <DISTANCE_IN_NM>)\n",
    "atoms = asel.select_within(qm.igro.fetch_atoms('P'), qm.igro.atoms, 0.5)\n",
    "\n",
    "qm.system = atoms\n",
    "\n",
    "# Some pretty print\n",
    "\n",
    "print '=' * 20\n",
    "for a in qm.system:\n",
    "    print a\n",
    "print '-' * 20\n",
    "print 'TOTAL ATOMS: %d' % len(qm.system)\n",
    "print '=' * 20"
   ]
  },
  {
   "cell_type": "code",
   "execution_count": null,
   "metadata": {},
   "outputs": [],
   "source": [
    "# Expand \n",
    "qm.refine_system()\n",
    "\n",
    "print '=' * 20\n",
    "for a in qm.system:\n",
    "    print a\n",
    "print '-' * 20\n",
    "print 'TOTAL ATOMS: %d' % len(qm.system)\n",
    "# !!!THIS CHARGE DOES NOT INCLUDE NON-TOPOLOGICAL CATIONS!!!\n",
    "print 'CHARGE: %d' % qm.charge \n",
    "print '=' * 20"
   ]
  },
  {
   "cell_type": "code",
   "execution_count": null,
   "metadata": {},
   "outputs": [],
   "source": [
    "# Dump qm system to reusable file\n",
    "qm.write_system(base + \"qm_new.input\")"
   ]
  },
  {
   "cell_type": "code",
   "execution_count": null,
   "metadata": {},
   "outputs": [],
   "source": [
    "# Process all files\n",
    "\n",
    "qm.main_job()\n",
    "\n",
    "# Or\n",
    "\n",
    "# qm.init_outs()\n",
    "# qm.process_topology()\n",
    "# self.write_outputs()"
   ]
  },
  {
   "cell_type": "code",
   "execution_count": null,
   "metadata": {},
   "outputs": [],
   "source": [
    "# Or even write outputs by yourself\n",
    "\n",
    "qm.ogro.write('/tmp/gg.gro')\n",
    "qm.otop.write('/tmp/gg.top')\n",
    "qm.ondx.write('/tmp/gg.ndx')"
   ]
  },
  {
   "cell_type": "code",
   "execution_count": null,
   "metadata": {},
   "outputs": [],
   "source": [
    "# Or the same but in cyclic mode\n",
    "\n",
    "# Init QM system for QMMM computations\n",
    "\n",
    "base = '/some/path/to/temp/dir/'\n",
    "\n",
    "qm = pmx.QMsystem()\n",
    "\n",
    "qm.itop = pmx.Topology(base + \"topol_qm.top\")\n",
    "qm.igro = pmx.Model(base + \"emqm_si_pr.gro\")\n",
    "qm.indx = pmx.IndexFile() \n",
    "\n",
    "for i in [110, 130, 522]:\n",
    "    print(i)\n",
    "    sysfile = base + 'qm_ex_%d.input' % i\n",
    "    qm.otopfn = base + 'topol_qm_ex_%d.top' % i\n",
    "    qm.ogrofn = base + 'emqm_si_pr_ex_%d.gro' % i\n",
    "    qm.ondxfn = base + 'qms_ex_%d.ndx'  % i\n",
    "    \n",
    "    qm.system = pmx.Atomselection().select_within(qm.igro.fetch_atoms(i, how='byresnr'), qm.igro.atoms, 0.35)\n",
    "    qm.refine_system()\n",
    "    qm.write_system(sysfile)\n",
    "    qm.main_job()"
   ]
  },
  {
   "cell_type": "code",
   "execution_count": 12,
   "metadata": {},
   "outputs": [
    {
     "ename": "IOError",
     "evalue": "[Errno 2] No such file or directory: '/some/path/to/temp/dir/emqm_si_pr.gro'",
     "output_type": "error",
     "traceback": [
      "\u001b[0;31m\u001b[0m",
      "\u001b[0;31mIOError\u001b[0mTraceback (most recent call last)",
      "\u001b[0;32m<ipython-input-12-7e0f993b4de9>\u001b[0m in \u001b[0;36m<module>\u001b[0;34m()\u001b[0m\n\u001b[1;32m      3\u001b[0m \u001b[0mbase\u001b[0m \u001b[0;34m=\u001b[0m \u001b[0;34m'/some/path/to/temp/dir/'\u001b[0m\u001b[0;34m\u001b[0m\u001b[0m\n\u001b[1;32m      4\u001b[0m \u001b[0;34m\u001b[0m\u001b[0m\n\u001b[0;32m----> 5\u001b[0;31m \u001b[0migro\u001b[0m \u001b[0;34m=\u001b[0m \u001b[0mpmx\u001b[0m\u001b[0;34m.\u001b[0m\u001b[0mModel\u001b[0m\u001b[0;34m(\u001b[0m\u001b[0mbase\u001b[0m \u001b[0;34m+\u001b[0m \u001b[0;34m\"emqm_si_pr.gro\"\u001b[0m\u001b[0;34m)\u001b[0m\u001b[0;34m\u001b[0m\u001b[0m\n\u001b[0m\u001b[1;32m      6\u001b[0m \u001b[0;34m\u001b[0m\u001b[0m\n\u001b[1;32m      7\u001b[0m \u001b[0mtt\u001b[0m \u001b[0;34m=\u001b[0m \u001b[0mpmx\u001b[0m\u001b[0;34m.\u001b[0m\u001b[0mAtomselection\u001b[0m\u001b[0;34m(\u001b[0m\u001b[0;34m)\u001b[0m\u001b[0;34m.\u001b[0m\u001b[0mselect_within\u001b[0m\u001b[0;34m(\u001b[0m\u001b[0migro\u001b[0m\u001b[0;34m.\u001b[0m\u001b[0mfetch_atoms\u001b[0m\u001b[0;34m(\u001b[0m\u001b[0;34m[\u001b[0m\u001b[0;36m522\u001b[0m\u001b[0;34m]\u001b[0m\u001b[0;34m,\u001b[0m \u001b[0mhow\u001b[0m\u001b[0;34m=\u001b[0m\u001b[0;34m'byresnr'\u001b[0m\u001b[0;34m)\u001b[0m\u001b[0;34m,\u001b[0m \u001b[0migro\u001b[0m\u001b[0;34m.\u001b[0m\u001b[0matoms\u001b[0m\u001b[0;34m,\u001b[0m \u001b[0;36m0.2\u001b[0m\u001b[0;34m)\u001b[0m\u001b[0;34m\u001b[0m\u001b[0m\n",
      "\u001b[0;32m/home/domain/silwer/work/pmx_qmmm/pmx/model.pyc\u001b[0m in \u001b[0;36m__init__\u001b[0;34m(self, filename, pdbline, renumber_atoms, renumber_residues, **kwargs)\u001b[0m\n\u001b[1;32m    108\u001b[0m \u001b[0;34m\u001b[0m\u001b[0m\n\u001b[1;32m    109\u001b[0m         \u001b[0;32mif\u001b[0m \u001b[0mfilename\u001b[0m \u001b[0;32mis\u001b[0m \u001b[0;32mnot\u001b[0m \u001b[0mNone\u001b[0m\u001b[0;34m:\u001b[0m\u001b[0;34m\u001b[0m\u001b[0m\n\u001b[0;32m--> 110\u001b[0;31m             \u001b[0mself\u001b[0m\u001b[0;34m.\u001b[0m\u001b[0mread\u001b[0m\u001b[0;34m(\u001b[0m\u001b[0mfilename\u001b[0m\u001b[0;34m)\u001b[0m\u001b[0;34m\u001b[0m\u001b[0m\n\u001b[0m\u001b[1;32m    111\u001b[0m         \u001b[0;32mif\u001b[0m \u001b[0mpdbline\u001b[0m \u001b[0;32mis\u001b[0m \u001b[0;32mnot\u001b[0m \u001b[0mNone\u001b[0m\u001b[0;34m:\u001b[0m\u001b[0;34m\u001b[0m\u001b[0m\n\u001b[1;32m    112\u001b[0m             \u001b[0mself\u001b[0m\u001b[0;34m.\u001b[0m\u001b[0m__readPDB\u001b[0m\u001b[0;34m(\u001b[0m\u001b[0mpdbline\u001b[0m\u001b[0;34m=\u001b[0m\u001b[0mpdbline\u001b[0m\u001b[0;34m)\u001b[0m\u001b[0;34m\u001b[0m\u001b[0m\n",
      "\u001b[0;32m/home/domain/silwer/work/pmx_qmmm/pmx/model.pyc\u001b[0m in \u001b[0;36mread\u001b[0;34m(self, filename)\u001b[0m\n\u001b[1;32m    405\u001b[0m             \u001b[0;32mreturn\u001b[0m \u001b[0mself\u001b[0m\u001b[0;34m.\u001b[0m\u001b[0m__readPDB\u001b[0m\u001b[0;34m(\u001b[0m\u001b[0mfilename\u001b[0m\u001b[0;34m)\u001b[0m\u001b[0;34m\u001b[0m\u001b[0m\n\u001b[1;32m    406\u001b[0m         \u001b[0;32melif\u001b[0m \u001b[0mext\u001b[0m \u001b[0;34m==\u001b[0m \u001b[0;34m'gro'\u001b[0m\u001b[0;34m:\u001b[0m\u001b[0;34m\u001b[0m\u001b[0m\n\u001b[0;32m--> 407\u001b[0;31m             \u001b[0;32mreturn\u001b[0m \u001b[0mself\u001b[0m\u001b[0;34m.\u001b[0m\u001b[0m__readGRO\u001b[0m\u001b[0;34m(\u001b[0m\u001b[0mfilename\u001b[0m\u001b[0;34m)\u001b[0m\u001b[0;34m\u001b[0m\u001b[0m\n\u001b[0m\u001b[1;32m    408\u001b[0m         \u001b[0;32melse\u001b[0m\u001b[0;34m:\u001b[0m\u001b[0;34m\u001b[0m\u001b[0m\n\u001b[1;32m    409\u001b[0m             \u001b[0;32mprint\u001b[0m \u001b[0;34m>>\u001b[0m\u001b[0msys\u001b[0m\u001b[0;34m.\u001b[0m\u001b[0mstderr\u001b[0m\u001b[0;34m,\u001b[0m \u001b[0;34m'ERROR: Can only read pdb or gro!'\u001b[0m\u001b[0;34m\u001b[0m\u001b[0m\n",
      "\u001b[0;32m/home/domain/silwer/work/pmx_qmmm/pmx/model.pyc\u001b[0m in \u001b[0;36m__readGRO\u001b[0;34m(self, filename)\u001b[0m\n\u001b[1;32m    334\u001b[0m \u001b[0;34m\u001b[0m\u001b[0m\n\u001b[1;32m    335\u001b[0m     \u001b[0;32mdef\u001b[0m \u001b[0m__readGRO\u001b[0m\u001b[0;34m(\u001b[0m\u001b[0mself\u001b[0m\u001b[0;34m,\u001b[0m \u001b[0mfilename\u001b[0m\u001b[0;34m)\u001b[0m\u001b[0;34m:\u001b[0m\u001b[0;34m\u001b[0m\u001b[0m\n\u001b[0;32m--> 336\u001b[0;31m         \u001b[0ml\u001b[0m \u001b[0;34m=\u001b[0m \u001b[0mopen\u001b[0m\u001b[0;34m(\u001b[0m\u001b[0mfilename\u001b[0m\u001b[0;34m)\u001b[0m\u001b[0;34m.\u001b[0m\u001b[0mreadlines\u001b[0m\u001b[0;34m(\u001b[0m\u001b[0;34m)\u001b[0m\u001b[0;34m\u001b[0m\u001b[0m\n\u001b[0m\u001b[1;32m    337\u001b[0m         \u001b[0;31m# first line is name/comment\u001b[0m\u001b[0;34m\u001b[0m\u001b[0;34m\u001b[0m\u001b[0m\n\u001b[1;32m    338\u001b[0m         \u001b[0mname\u001b[0m \u001b[0;34m=\u001b[0m \u001b[0ml\u001b[0m\u001b[0;34m[\u001b[0m\u001b[0;36m0\u001b[0m\u001b[0;34m]\u001b[0m\u001b[0;34m.\u001b[0m\u001b[0mrstrip\u001b[0m\u001b[0;34m(\u001b[0m\u001b[0;34m)\u001b[0m\u001b[0;34m\u001b[0m\u001b[0m\n",
      "\u001b[0;31mIOError\u001b[0m: [Errno 2] No such file or directory: '/some/path/to/temp/dir/emqm_si_pr.gro'"
     ]
    }
   ],
   "source": [
    "# A bit more about selections\n",
    "\n",
    "base = '/some/path/to/temp/dir/'\n",
    "\n",
    "igro = pmx.Model(base + \"emqm_si_pr.gro\")\n",
    "\n",
    "tt = pmx.Atomselection().select_within(igro.fetch_atoms([522], how='byresnr'), igro.atoms, 0.2)\n",
    "\n",
    "print '=' * 20\n",
    "print \"Select within: %d\" % len(tt)\n",
    "print '-' * 20\n",
    "for i in tt:\n",
    "    print i\n",
    "    \n",
    "print '=' * 20\n",
    "\n",
    "tts = pmx.atomselection.Atomselection(atoms=tt)\n",
    "aaaa = tts.expand_byres_minimal(igro.atoms)\n",
    "bbbb = tts.expand_byres(igro.atoms)\n",
    "\n",
    "\n",
    "print '=' * 20\n",
    "print \"Expand minimal: %d\" % len(aaaa)\n",
    "print '-' * 20\n",
    "for i in aaaa:\n",
    "    print i\n",
    "print '=' * 20\n",
    "\n",
    "print '=' * 20\n",
    "print \"Expand byres: %d\" % len(bbbb)\n",
    "print '-' * 20\n",
    "for i in bbbb:\n",
    "    print i\n",
    "print '=' * 20"
   ]
  },
  {
   "cell_type": "code",
   "execution_count": null,
   "metadata": {},
   "outputs": [],
   "source": [
    "# And more about expanding\n",
    "\n",
    "# Init QM system for QMMM computations\n",
    "\n",
    "base = '/some/path/to/temp/dir/'\n",
    "\n",
    "qm = pmx.qmmm.QMsystem()\n",
    "\n",
    "qm.itop = pmx.Topology(base + \"topol.top\")\n",
    "qm.igro = pmx.Model(base + \"emqm.gro\")\n",
    "qm.indx = pmx.IndexFile() \n",
    "\n",
    "qm.otopfn = base + 'topol_qm_gg\".top'\n",
    "qm.ogrofn = base + 'emqm_si_pr_gg.gro'\n",
    "qm.ondxfn = base + 'qms_gg.ndx'\n",
    "\n",
    "\n",
    "p = pmx.Atomselection(atoms=qm.igro.fetch_atoms([522], how='byresnr'))\n",
    "print p.atoms[0].resnr\n",
    "\n",
    "\n",
    "print '=' * 20\n",
    "print \"Select: %d\" % len(p.atoms)\n",
    "print '-' * 20\n",
    "for i in p.atoms:\n",
    "    print i\n",
    "print '=' * 20\n",
    "\n",
    "gn = qm.expand_n_terminus(p.atoms)\n",
    "gc = qm.expand_c_terminus(p.atoms)\n",
    "gb = qm.expand_ends(p.atoms)\n",
    "\n",
    "print '=' * 20\n",
    "print \"Expand N terminus: %d\" % len(gn)\n",
    "print '-' * 20\n",
    "for i in gn:\n",
    "    print i\n",
    "print '=' * 20\n",
    "\n",
    "print '=' * 20\n",
    "print \"Expand C terminus: %d\" % len(gc)\n",
    "print '-' * 20\n",
    "for i in gc:\n",
    "    print i\n",
    "print '=' * 20\n",
    "\n",
    "print '=' * 20\n",
    "print \"Expand both ends: %d\" % len(gb)\n",
    "print '-' * 20\n",
    "for i in gb:\n",
    "    print i\n",
    "print '=' * 20\n"
   ]
  }
 ],
 "metadata": {
  "kernelspec": {
   "display_name": "Python 2",
   "language": "python",
   "name": "python2"
  },
  "language_info": {
   "codemirror_mode": {
    "name": "ipython",
    "version": 2
   },
   "file_extension": ".py",
   "mimetype": "text/x-python",
   "name": "python",
   "nbconvert_exporter": "python",
   "pygments_lexer": "ipython2",
   "version": "2.7.17"
  }
 },
 "nbformat": 4,
 "nbformat_minor": 4
}
